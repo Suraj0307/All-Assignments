{
 "cells": [
  {
   "cell_type": "markdown",
   "id": "0cad68cb",
   "metadata": {},
   "source": [
    "# Assignment 1"
   ]
  },
  {
   "cell_type": "code",
   "execution_count": 1,
   "id": "630abf1e",
   "metadata": {},
   "outputs": [],
   "source": [
    "class sides():\n",
    "    def __init__(self,a,b,c):\n",
    "        self.a,self.b,self.c=a,b,c\n",
    "        self.temp=\"suraj\""
   ]
  },
  {
   "cell_type": "code",
   "execution_count": 2,
   "id": "b66224ae",
   "metadata": {},
   "outputs": [],
   "source": [
    "A=sides(12,10,20)"
   ]
  },
  {
   "cell_type": "code",
   "execution_count": 3,
   "id": "8a2efa26",
   "metadata": {},
   "outputs": [
    {
     "data": {
      "text/plain": [
       "12"
      ]
     },
     "execution_count": 3,
     "metadata": {},
     "output_type": "execute_result"
    }
   ],
   "source": [
    "A.a"
   ]
  },
  {
   "cell_type": "code",
   "execution_count": 4,
   "id": "d74feac6",
   "metadata": {},
   "outputs": [],
   "source": [
    "class area(sides):\n",
    "    def __init__(self,a,b,c):\n",
    "        super().__init__(a,b,c)\n",
    "        self.s=(self.a+self.b+self.c)/2\n",
    "        print(self.a,self.b,self.c,self.s)\n",
    "        \n",
    "    def calc(self):\n",
    "        self.calc=(self.s*(self.s-self.a)*(self.s-self.b)*(self.s-self.c))**0.5\n",
    "        print(self.a,self.b,self.c,self.s)\n",
    "        return self.calc"
   ]
  },
  {
   "cell_type": "code",
   "execution_count": 5,
   "id": "c6c82301",
   "metadata": {},
   "outputs": [
    {
     "name": "stdout",
     "output_type": "stream",
     "text": [
      "12 10 20 21.0\n"
     ]
    }
   ],
   "source": [
    "Tri=area(12,10,20)"
   ]
  },
  {
   "cell_type": "code",
   "execution_count": 6,
   "id": "d33abd52",
   "metadata": {},
   "outputs": [
    {
     "name": "stdout",
     "output_type": "stream",
     "text": [
      "12 10 20 21.0\n"
     ]
    },
    {
     "data": {
      "text/plain": [
       "45.59605246071199"
      ]
     },
     "execution_count": 6,
     "metadata": {},
     "output_type": "execute_result"
    }
   ],
   "source": [
    "Tri.calc()"
   ]
  },
  {
   "cell_type": "markdown",
   "id": "4360da94",
   "metadata": {},
   "source": [
    "# Assignment 2 "
   ]
  },
  {
   "cell_type": "code",
   "execution_count": 9,
   "id": "2392374d",
   "metadata": {},
   "outputs": [],
   "source": [
    "def long_words(l,n):\n",
    "    l1=[]\n",
    "    for i in l:\n",
    "        if len(i)>n:\n",
    "            l1.append(i)\n",
    "    return l1\n",
    "    "
   ]
  },
  {
   "cell_type": "code",
   "execution_count": 12,
   "id": "3b8cdb91",
   "metadata": {},
   "outputs": [
    {
     "name": "stdout",
     "output_type": "stream",
     "text": [
      "['ineuron', 'krish']\n"
     ]
    }
   ],
   "source": [
    "l=long_words([\"ineuron\",'krish',\"Data\",\"naik\",\"s\"],4)\n",
    "print(l)"
   ]
  },
  {
   "cell_type": "markdown",
   "id": "be131838",
   "metadata": {},
   "source": [
    "# Assignment 3 "
   ]
  },
  {
   "cell_type": "code",
   "execution_count": 14,
   "id": "84b8a0ef",
   "metadata": {},
   "outputs": [],
   "source": [
    "def l_of_int(l):\n",
    "    my_list=[]\n",
    "    for i in l:\n",
    "        my_list.append(len(i))\n",
    "    return my_list"
   ]
  },
  {
   "cell_type": "code",
   "execution_count": 15,
   "id": "71f45f40",
   "metadata": {},
   "outputs": [
    {
     "data": {
      "text/plain": [
       "[7, 2, 5, 4]"
      ]
     },
     "execution_count": 15,
     "metadata": {},
     "output_type": "execute_result"
    }
   ],
   "source": [
    "l1=l_of_int(['ineuron','Ai','krish','Naik'])\n",
    "l1"
   ]
  },
  {
   "cell_type": "markdown",
   "id": "aa1ab352",
   "metadata": {},
   "source": [
    "# Assignment 4 "
   ]
  },
  {
   "cell_type": "code",
   "execution_count": 16,
   "id": "c15295b0",
   "metadata": {},
   "outputs": [],
   "source": [
    "def check_vowel(char):\n",
    "    \n",
    "    if char in ['a','e','i','o','u']:\n",
    "        return True\n",
    "    else:\n",
    "        return False"
   ]
  },
  {
   "cell_type": "code",
   "execution_count": 18,
   "id": "44e15ade",
   "metadata": {},
   "outputs": [
    {
     "name": "stdout",
     "output_type": "stream",
     "text": [
      "Enter a character\n",
      "a\n"
     ]
    },
    {
     "data": {
      "text/plain": [
       "True"
      ]
     },
     "execution_count": 18,
     "metadata": {},
     "output_type": "execute_result"
    }
   ],
   "source": [
    "char=input(\"Enter a character\\n\")\n",
    "check_vowel(char)"
   ]
  },
  {
   "cell_type": "code",
   "execution_count": null,
   "id": "58f55f08",
   "metadata": {},
   "outputs": [],
   "source": []
  }
 ],
 "metadata": {
  "kernelspec": {
   "display_name": "Python 3",
   "language": "python",
   "name": "python3"
  },
  "language_info": {
   "codemirror_mode": {
    "name": "ipython",
    "version": 3
   },
   "file_extension": ".py",
   "mimetype": "text/x-python",
   "name": "python",
   "nbconvert_exporter": "python",
   "pygments_lexer": "ipython3",
   "version": "3.8.8"
  }
 },
 "nbformat": 4,
 "nbformat_minor": 5
}
