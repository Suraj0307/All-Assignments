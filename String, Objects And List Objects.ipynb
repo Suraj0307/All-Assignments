{
 "cells": [
  {
   "cell_type": "markdown",
   "id": "1664a34b",
   "metadata": {},
   "source": [
    "# Assignment 1"
   ]
  },
  {
   "cell_type": "code",
   "execution_count": 1,
   "id": "e69dbaf1",
   "metadata": {},
   "outputs": [
    {
     "name": "stdout",
     "output_type": "stream",
     "text": [
      "\n",
      "*\n",
      "**\n",
      "***\n",
      "****\n",
      "*****\n",
      "****\n",
      "***\n",
      "**\n",
      "*\n"
     ]
    }
   ],
   "source": [
    "for j in range(0,6):\n",
    "    print(\"*\"*j)\n",
    "    if j==5:\n",
    "        for i in range(4,0,-1):\n",
    "            print(\"*\"*i)     \n",
    "        "
   ]
  },
  {
   "cell_type": "markdown",
   "id": "fb51bc42",
   "metadata": {},
   "source": [
    "# Assignment 2 "
   ]
  },
  {
   "cell_type": "code",
   "execution_count": 2,
   "id": "abcda534",
   "metadata": {},
   "outputs": [
    {
     "name": "stdout",
     "output_type": "stream",
     "text": [
      "Enter your name ,I will reverse it\n",
      "ineuron\n",
      "norueni\n"
     ]
    }
   ],
   "source": [
    "name=input(\"Enter your name ,I will reverse it\\n\")\n",
    "print(name[::-1])"
   ]
  },
  {
   "cell_type": "code",
   "execution_count": null,
   "id": "a67c0109",
   "metadata": {},
   "outputs": [],
   "source": []
  }
 ],
 "metadata": {
  "kernelspec": {
   "display_name": "Python 3",
   "language": "python",
   "name": "python3"
  },
  "language_info": {
   "codemirror_mode": {
    "name": "ipython",
    "version": 3
   },
   "file_extension": ".py",
   "mimetype": "text/x-python",
   "name": "python",
   "nbconvert_exporter": "python",
   "pygments_lexer": "ipython3",
   "version": "3.8.8"
  }
 },
 "nbformat": 4,
 "nbformat_minor": 5
}
