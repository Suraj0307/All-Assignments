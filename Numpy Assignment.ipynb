{
 "cells": [
  {
   "cell_type": "markdown",
   "id": "392f1b84",
   "metadata": {},
   "source": [
    "# Assignment 1"
   ]
  },
  {
   "cell_type": "markdown",
   "id": "8b1a52f8",
   "metadata": {},
   "source": [
    "Write a function so that the columns of the output matrix are powers of the input\n",
    "vector.\n",
    "The order of the powers is determined by the increasing boolean argument. Specifically, when\n",
    "increasing is False, the i-th output column is the input vector raised element-wise to the power\n",
    "of N - i - 1.\n",
    "HINT: Such a matrix with a geometric progression in each row is named for AlexandreTheophile Vandermonde."
   ]
  },
  {
   "cell_type": "code",
   "execution_count": 1,
   "id": "9db605d0",
   "metadata": {},
   "outputs": [
    {
     "name": "stdout",
     "output_type": "stream",
     "text": [
      "[[  1   1   1   1   1]\n",
      " [ 16   8   4   2   1]\n",
      " [ 81  27   9   3   1]\n",
      " [256  64  16   4   1]\n",
      " [625 125  25   5   1]]\n"
     ]
    }
   ],
   "source": [
    "import numpy as np\n",
    "x=np.array([1,2,3,4,5])\n",
    "n=5\n",
    "arr=np.column_stack([x**(n-i-1) for i in range(n)])\n",
    "print(arr)"
   ]
  },
  {
   "cell_type": "markdown",
   "id": "f985cba9",
   "metadata": {},
   "source": [
    "# Assignment 2 "
   ]
  },
  {
   "cell_type": "markdown",
   "id": "739f7da5",
   "metadata": {},
   "source": [
    "Given a sequence of n values x1, x2, ..., xn and a window size k>0, the k-th moving average of\n",
    "the given sequence is defined as follows:"
   ]
  },
  {
   "cell_type": "markdown",
   "id": "2550a164",
   "metadata": {},
   "source": [
    "The moving average sequence has n-k+1 elements as shown below.\n"
   ]
  },
  {
   "cell_type": "code",
   "execution_count": 2,
   "id": "42621ae8",
   "metadata": {},
   "outputs": [],
   "source": [
    "# The moving averages with k=4 of a ten-value sequence (n=10) is shown below\n",
    "# i 1 2 3 4 5 6 7 8 9 10\n",
    "# ===== == == == == == == == == == ==\n",
    "# Input 10 20 30 40 50 60 70 80 90 100\n",
    "# y1 25 = (10+20+30+40)/4\n",
    "# y2 35 = (20+30+40+50)/4\n",
    "# y3 45 = (30+40+50+60)/4\n",
    "# y4 55 = (40+50+60+70)/4\n",
    "# y5 65 = (50+60+70+80)/4\n",
    "# y6 75 = (60+70+80+90)/4\n",
    "# y7 85 = (70+80+90+100)/4\n",
    "# Thus, the moving average sequence has n-k+1=10-4+1=7 values."
   ]
  },
  {
   "cell_type": "markdown",
   "id": "5baf923f",
   "metadata": {},
   "source": [
    "Write a function to find moving average in an array over a window:\n",
    " Test it over [3, 5, 7, 2, 8, 10, 11, 65, 72, 81, 99, 100, 150] and window of 3"
   ]
  },
  {
   "cell_type": "code",
   "execution_count": 3,
   "id": "7fffd247",
   "metadata": {},
   "outputs": [],
   "source": [
    "def mov_avg(lst,k):\n",
    "    \n",
    "    Elements=len(lst)-k+1\n",
    "    outputs=[]\n",
    "    for num in range(Elements):\n",
    "        output=sum(lst[num:num+k])/k\n",
    "        outputs.append(output)\n",
    "    return outputs,len(outputs)   "
   ]
  },
  {
   "cell_type": "code",
   "execution_count": null,
   "id": "ef25e730",
   "metadata": {},
   "outputs": [],
   "source": []
  },
  {
   "cell_type": "code",
   "execution_count": 4,
   "id": "3a1ff9dc",
   "metadata": {},
   "outputs": [
    {
     "name": "stdout",
     "output_type": "stream",
     "text": [
      "[25.0, 35.0, 45.0, 55.0, 65.0, 75.0, 85.0] 7\n"
     ]
    }
   ],
   "source": [
    "inp=[10,20,30,40,50,60,70,80,90,100]\n",
    "out,l=mov_avg(inp,4)\n",
    "print(out,l)"
   ]
  },
  {
   "cell_type": "code",
   "execution_count": 5,
   "id": "81735ff0",
   "metadata": {},
   "outputs": [
    {
     "name": "stdout",
     "output_type": "stream",
     "text": [
      "[5.0, 4.666666666666667, 5.666666666666667, 6.666666666666667, 9.666666666666666, 28.666666666666668, 49.333333333333336, 72.66666666666667, 84.0, 93.33333333333333, 116.33333333333333] 11\n"
     ]
    }
   ],
   "source": [
    "inp=[3, 5, 7, 2, 8, 10, 11, 65, 72, 81, 99, 100, 150]\n",
    "out,l=mov_avg(inp,3)\n",
    "print(out,l)"
   ]
  },
  {
   "cell_type": "code",
   "execution_count": null,
   "id": "804494f0",
   "metadata": {},
   "outputs": [],
   "source": []
  }
 ],
 "metadata": {
  "kernelspec": {
   "display_name": "Python 3",
   "language": "python",
   "name": "python3"
  },
  "language_info": {
   "codemirror_mode": {
    "name": "ipython",
    "version": 3
   },
   "file_extension": ".py",
   "mimetype": "text/x-python",
   "name": "python",
   "nbconvert_exporter": "python",
   "pygments_lexer": "ipython3",
   "version": "3.8.8"
  }
 },
 "nbformat": 4,
 "nbformat_minor": 5
}
