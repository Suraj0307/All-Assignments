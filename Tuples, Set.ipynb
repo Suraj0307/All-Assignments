{
 "cells": [
  {
   "cell_type": "markdown",
   "id": "fdd5e9c0",
   "metadata": {},
   "source": [
    "# Assignment 1 "
   ]
  },
  {
   "cell_type": "code",
   "execution_count": 1,
   "id": "ccaad732",
   "metadata": {},
   "outputs": [
    {
     "name": "stdout",
     "output_type": "stream",
     "text": [
      "37\n"
     ]
    }
   ],
   "source": [
    "my_list=[2,5,8,10,9,3]\n",
    "\n",
    "# Using reduce function\n",
    "from functools import reduce\n",
    "e=reduce(lambda x,y:x+y,my_list)\n",
    "print(e)"
   ]
  },
  {
   "cell_type": "code",
   "execution_count": 2,
   "id": "cbf897fa",
   "metadata": {},
   "outputs": [],
   "source": [
    "def myreduce(list1):\n",
    "    add=0\n",
    "    for i in range(len(list1)-1):\n",
    "        x=list1[i]\n",
    "        y=list1[i+1]\n",
    "        \n",
    "        if i==0:\n",
    "            add=add+y+x\n",
    "        else:\n",
    "            add=add+y\n",
    "    return add\n",
    "    \n",
    "    "
   ]
  },
  {
   "cell_type": "code",
   "execution_count": 3,
   "id": "0a5ff7c4",
   "metadata": {},
   "outputs": [
    {
     "data": {
      "text/plain": [
       "37"
      ]
     },
     "execution_count": 3,
     "metadata": {},
     "output_type": "execute_result"
    }
   ],
   "source": [
    "myreduce(my_list)"
   ]
  },
  {
   "cell_type": "code",
   "execution_count": 4,
   "id": "fb11aa2b",
   "metadata": {},
   "outputs": [
    {
     "name": "stdout",
     "output_type": "stream",
     "text": [
      "2100\n"
     ]
    }
   ],
   "source": [
    "my_list1=[100,200,300,400,500,600]\n",
    "total=myreduce(my_list1)\n",
    "print(total)"
   ]
  },
  {
   "cell_type": "markdown",
   "id": "b3a48270",
   "metadata": {},
   "source": [
    "# Assignment 2"
   ]
  },
  {
   "cell_type": "code",
   "execution_count": 5,
   "id": "e48e0856",
   "metadata": {},
   "outputs": [
    {
     "data": {
      "text/plain": [
       "[12, 28, 210]"
      ]
     },
     "execution_count": 5,
     "metadata": {},
     "output_type": "execute_result"
    }
   ],
   "source": [
    "my_list2=[12,25,28,210,29,33]\n",
    "list(filter(lambda x:x%2==0,my_list2))\n",
    "\n",
    "# Above is the python builtins"
   ]
  },
  {
   "cell_type": "code",
   "execution_count": 6,
   "id": "f314f38c",
   "metadata": {},
   "outputs": [],
   "source": [
    "def myfilter(list1,num):\n",
    "    list2=[]\n",
    "    for i in list1:\n",
    "        if i%num==0:\n",
    "            list2.append(i)\n",
    "    return list2"
   ]
  },
  {
   "cell_type": "code",
   "execution_count": 7,
   "id": "28553bcd",
   "metadata": {},
   "outputs": [
    {
     "name": "stdout",
     "output_type": "stream",
     "text": [
      "[12, 210, 33]\n"
     ]
    }
   ],
   "source": [
    "e=myfilter(my_list2,3)\n",
    "print(e)"
   ]
  },
  {
   "cell_type": "markdown",
   "id": "4624987e",
   "metadata": {},
   "source": [
    "# Assignment 3 "
   ]
  },
  {
   "cell_type": "code",
   "execution_count": 8,
   "id": "7250f46a",
   "metadata": {},
   "outputs": [
    {
     "name": "stdout",
     "output_type": "stream",
     "text": [
      "['x', 'xx', 'xxx', 'xxxx', 'y', 'yy', 'yyy', 'yyyy', 'z', 'zz', 'zzz', 'zzzz']\n"
     ]
    }
   ],
   "source": [
    "l1 = ['x','y','z']\n",
    "output = [ i*num for i in l1 for num in range(1,5)  ]\n",
    "print(output)"
   ]
  },
  {
   "cell_type": "code",
   "execution_count": 9,
   "id": "ebb4f756",
   "metadata": {},
   "outputs": [
    {
     "name": "stdout",
     "output_type": "stream",
     "text": [
      "['x', 'y', 'z', 'xx', 'yy', 'zz', 'xxx', 'yyy', 'zzz', 'xxxx', 'yyyy', 'zzzz']\n"
     ]
    }
   ],
   "source": [
    "l1 = ['x','y','z']\n",
    "output = [ i*num for num in range(1,5) for i in l1]\n",
    "print(output)"
   ]
  },
  {
   "cell_type": "code",
   "execution_count": 10,
   "id": "c59917ab",
   "metadata": {},
   "outputs": [
    {
     "name": "stdout",
     "output_type": "stream",
     "text": [
      "[[2], [3], [4], [3], [4], [5], [4], [5], [6]]\n"
     ]
    }
   ],
   "source": [
    "l1=[2,3,4,5,6]\n",
    "output = [ [l1[j]] for i in range(0,3) for j in range(i,i+3) ]\n",
    "print(output)\n"
   ]
  },
  {
   "cell_type": "code",
   "execution_count": 11,
   "id": "d9bb804a",
   "metadata": {},
   "outputs": [
    {
     "name": "stdout",
     "output_type": "stream",
     "text": [
      "[[2, 3, 4, 5], [3, 4, 5, 6], [4, 5, 6, 7], [5, 6, 7, 8]]\n"
     ]
    }
   ],
   "source": [
    "l1=[2,3,4,5,6,7,8]\n",
    "output=[ [ l1[j] for j in range(i,i+4) ] for i in range(4) ]\n",
    "print(output)"
   ]
  },
  {
   "cell_type": "code",
   "execution_count": 12,
   "id": "b8882888",
   "metadata": {},
   "outputs": [
    {
     "name": "stdout",
     "output_type": "stream",
     "text": [
      "[(1, 1), (2, 1), (3, 1), (1, 2), (2, 2), (3, 2), (1, 3), (2, 3), (3, 3)]\n"
     ]
    }
   ],
   "source": [
    "l1=[1,2,3]\n",
    "output=[ ( l1[j],i ) for i in l1 for j in range(3) ]\n",
    "print(output)"
   ]
  },
  {
   "cell_type": "code",
   "execution_count": null,
   "id": "71a2f2af",
   "metadata": {},
   "outputs": [],
   "source": []
  }
 ],
 "metadata": {
  "kernelspec": {
   "display_name": "Python 3",
   "language": "python",
   "name": "python3"
  },
  "language_info": {
   "codemirror_mode": {
    "name": "ipython",
    "version": 3
   },
   "file_extension": ".py",
   "mimetype": "text/x-python",
   "name": "python",
   "nbconvert_exporter": "python",
   "pygments_lexer": "ipython3",
   "version": "3.8.8"
  }
 },
 "nbformat": 4,
 "nbformat_minor": 5
}
