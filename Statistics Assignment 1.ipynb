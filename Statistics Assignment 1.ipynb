{
 "cells": [
  {
   "cell_type": "markdown",
   "id": "f1f06c15",
   "metadata": {},
   "source": [
    "# Problem Statement 1:"
   ]
  },
  {
   "cell_type": "markdown",
   "id": "91a71228",
   "metadata": {},
   "source": [
    "The marks awarded for an assignment set for a Year 8 class of 20 students were as\n",
    "follows:\n",
    "6 7 5 7 7 8 7 6 9 7 4 10 6 8 8 9 5 6 4 8"
   ]
  },
  {
   "cell_type": "markdown",
   "id": "37ec51fb",
   "metadata": {},
   "source": [
    "Calculate the mean, median, mode and standard deviation for the problem\n",
    "statements"
   ]
  },
  {
   "cell_type": "code",
   "execution_count": 1,
   "id": "52795085",
   "metadata": {},
   "outputs": [
    {
     "name": "stdout",
     "output_type": "stream",
     "text": [
      "[ 6  7  5  7  7  8  7  6  9  7  4 10  6  8  8  9  5  6  4  8]\n"
     ]
    }
   ],
   "source": [
    "import numpy as np\n",
    "a = np.array([ 6 ,7 ,5 ,7 ,7 ,8 ,7 ,6 ,9 ,7 ,4 ,10 ,6 ,8 ,8 ,9 ,5 ,6 ,4 ,8])\n",
    "print(a)"
   ]
  },
  {
   "cell_type": "code",
   "execution_count": 2,
   "id": "449d60a5",
   "metadata": {},
   "outputs": [
    {
     "name": "stdout",
     "output_type": "stream",
     "text": [
      "6.85 is the mean of the data\n"
     ]
    }
   ],
   "source": [
    "print(np.mean(a),'is the mean of the data')"
   ]
  },
  {
   "cell_type": "code",
   "execution_count": 3,
   "id": "0dd1396d",
   "metadata": {},
   "outputs": [
    {
     "name": "stdout",
     "output_type": "stream",
     "text": [
      "7.0 is the median of the data\n"
     ]
    }
   ],
   "source": [
    "print(np.median(a),'is the median of the data')"
   ]
  },
  {
   "cell_type": "code",
   "execution_count": 4,
   "id": "b1599a96",
   "metadata": {},
   "outputs": [
    {
     "name": "stdout",
     "output_type": "stream",
     "text": [
      "1.5898113095584647 is the standard deviation of the data\n"
     ]
    }
   ],
   "source": [
    "print(np.std(a),'is the standard deviation of the data')"
   ]
  },
  {
   "cell_type": "code",
   "execution_count": 5,
   "id": "e39e1b83",
   "metadata": {},
   "outputs": [
    {
     "name": "stdout",
     "output_type": "stream",
     "text": [
      "7 is the maximum repeated number and is repeated for 5 times\n"
     ]
    }
   ],
   "source": [
    "val,cnt=np.unique(a,return_counts=True)\n",
    "pos=np.argmax(cnt)\n",
    "print(val[pos],'is the maximum repeated number and is repeated for',cnt[pos],'times')"
   ]
  },
  {
   "cell_type": "markdown",
   "id": "0029b332",
   "metadata": {},
   "source": [
    "# Problem Statement 2"
   ]
  },
  {
   "cell_type": "markdown",
   "id": "2ca7f06b",
   "metadata": {},
   "source": [
    "The number of calls from motorists per day for roadside service was recorded for a\n",
    "particular month:\n",
    "28, 122, 217, 130, 120, 86, 80, 90, 140, 120, 70, 40, 145, 113, 90, 68, 174, 194, 170,\n",
    "100, 75, 104, 97, 75,\n",
    "123, 100, 75, 104, 97, 75, 123, 100, 89, 120, 109"
   ]
  },
  {
   "cell_type": "code",
   "execution_count": 6,
   "id": "16df45a8",
   "metadata": {},
   "outputs": [
    {
     "name": "stdout",
     "output_type": "stream",
     "text": [
      "[ 28 122 217 130 120  86  80  90 140 120  70  40 145 113  90  68 174 194\n",
      " 170 100  75 104  97  75 123 100  75 104  97  75 123 100  89 120 109]\n"
     ]
    }
   ],
   "source": [
    "a=np.array([28, 122, 217, 130, 120, 86, 80, 90, 140, 120, 70, 40, 145, 113, 90, 68, 174, 194, 170, 100, 75, 104, 97, 75, 123, 100, 75, 104, 97, 75, 123, 100, 89, 120, 109])\n",
    "print(a)"
   ]
  },
  {
   "cell_type": "code",
   "execution_count": 7,
   "id": "c7d73a97",
   "metadata": {},
   "outputs": [
    {
     "name": "stdout",
     "output_type": "stream",
     "text": [
      "107.51428571428572 is the mean of the data\n"
     ]
    }
   ],
   "source": [
    "print(np.mean(a),'is the mean of the data')"
   ]
  },
  {
   "cell_type": "code",
   "execution_count": 8,
   "id": "121958f6",
   "metadata": {},
   "outputs": [
    {
     "name": "stdout",
     "output_type": "stream",
     "text": [
      "100.0 is the median of the data\n"
     ]
    }
   ],
   "source": [
    "print(np.median(a),'is the median of the data')"
   ]
  },
  {
   "cell_type": "code",
   "execution_count": 9,
   "id": "ae501189",
   "metadata": {},
   "outputs": [
    {
     "name": "stdout",
     "output_type": "stream",
     "text": [
      "38.77287080168403 is the standard deviation of the data\n"
     ]
    }
   ],
   "source": [
    "print(np.std(a),'is the standard deviation of the data')"
   ]
  },
  {
   "cell_type": "code",
   "execution_count": 10,
   "id": "6f6d696a",
   "metadata": {},
   "outputs": [
    {
     "name": "stdout",
     "output_type": "stream",
     "text": [
      "75 is the maximum repeated number and is repeated for 4 times\n"
     ]
    }
   ],
   "source": [
    "val,cnt=np.unique(a,return_counts=True)\n",
    "pos=np.argmax(cnt)\n",
    "print(val[pos],'is the maximum repeated number and is repeated for',cnt[pos],'times')"
   ]
  },
  {
   "cell_type": "markdown",
   "id": "d6357f38",
   "metadata": {},
   "source": [
    "# Problem Statement 3 "
   ]
  },
  {
   "cell_type": "markdown",
   "id": "0f7b7e24",
   "metadata": {},
   "source": [
    "The number of times I go to the gym in weekdays, are given below along with its\n",
    "associated probability:\n",
    "x = 0, 1, 2, 3, 4, 5\n",
    "f(x) = 0.09, 0.15, 0.40, 0.25, 0.10, 0.01\n",
    "Calculate the mean no. of workouts in a week. Also evaluate the variance involved in\n",
    "it."
   ]
  },
  {
   "cell_type": "code",
   "execution_count": 11,
   "id": "67068dab",
   "metadata": {},
   "outputs": [
    {
     "name": "stdout",
     "output_type": "stream",
     "text": [
      "2.15 is the mean number of workouts in a week\n"
     ]
    }
   ],
   "source": [
    "X=np.array([0,1,2,3,4,5])\n",
    "P_of_x=np.array([0.09,0.15,0.40,0.25,0.10,0.01])\n",
    "mean=sum(X*P_of_x)\n",
    "print(mean,'is the mean number of workouts in a week')"
   ]
  },
  {
   "cell_type": "code",
   "execution_count": 12,
   "id": "901f5d54",
   "metadata": {},
   "outputs": [
    {
     "name": "stdout",
     "output_type": "stream",
     "text": [
      "1.2275 is the variance\n"
     ]
    }
   ],
   "source": [
    "variance=sum((X-mean)**2*P_of_x)\n",
    "print(variance,'is the variance')"
   ]
  },
  {
   "cell_type": "markdown",
   "id": "3db45e36",
   "metadata": {},
   "source": [
    "# Problem Statement 4"
   ]
  },
  {
   "cell_type": "markdown",
   "id": "910ec6b1",
   "metadata": {},
   "source": [
    "Let the continuous random variable D denote the diameter of the hole drilled in an\n",
    "aluminum sheet. The target diameter to be achieved is 12.5mm. Random\n",
    "disturbances in the process often result in inaccuracy.\n",
    "Historical data shows that the distribution of D can be modelled by the PDF (d) =\n",
    "20e−20(d−12.5), d ≥ 12.5. If a part with diameter > 12.6 mm needs to be scrapped,\n",
    "what is the proportion of those parts? What is the CDF when the diameter is of 11\n",
    "mm? What is your conclusion regarding the proportion of scraps?"
   ]
  },
  {
   "cell_type": "code",
   "execution_count": 13,
   "id": "29add13d",
   "metadata": {},
   "outputs": [
    {
     "name": "stdout",
     "output_type": "stream",
     "text": [
      "Proportion of parts need to scrapped when d>12.6 mm is 0.13533528323661398\n",
      "CDF when the diameter is of 11mm is inf\n"
     ]
    },
    {
     "name": "stderr",
     "output_type": "stream",
     "text": [
      "<ipython-input-13-76d569090395>:4: RuntimeWarning: overflow encountered in exp\n",
      "  return 20*(np.exp((-20*(d-12.5))))\n"
     ]
    }
   ],
   "source": [
    "from scipy.integrate import quad\n",
    "\n",
    "def pdf(d):\n",
    "    return 20*(np.exp((-20*(d-12.5))))\n",
    "\n",
    "def calc(l_b,u_b):\n",
    "    return quad(pdf,l_b,u_b)[0]\n",
    "\n",
    "print(f\"Proportion of parts need to scrapped when d>12.6 mm is {calc(12.6,np.inf)}\")\n",
    "\n",
    "print(f\"CDF when the diameter is of 11mm is {calc(-np.inf,11)}\")\n",
    "\n",
    "# CDF is not valid because pdf is defined only when d>= 12.5"
   ]
  },
  {
   "cell_type": "markdown",
   "id": "f7f09f9f",
   "metadata": {},
   "source": [
    "# Problem Statement 5 "
   ]
  },
  {
   "cell_type": "markdown",
   "id": "3cfaf745",
   "metadata": {},
   "source": [
    "A company manufactures LED bulbs with a faulty rate of 30%. If I randomly select 6 chosen LEDs, what is the probability of having 2 faulty LEDs in my sample? Calculate the average value of this process. Also evaluate the standard deviation associated with it."
   ]
  },
  {
   "cell_type": "code",
   "execution_count": 14,
   "id": "29e95a18",
   "metadata": {},
   "outputs": [],
   "source": [
    "import pandas as pd\n",
    "from scipy.special import comb\n",
    "import matplotlib.pyplot as plt\n",
    "import seaborn as sns\n",
    "%matplotlib inline"
   ]
  },
  {
   "cell_type": "code",
   "execution_count": 15,
   "id": "034d6fd2",
   "metadata": {},
   "outputs": [
    {
     "name": "stdout",
     "output_type": "stream",
     "text": [
      "2.0 is the probability of getting 2 faulty LED's\n"
     ]
    },
    {
     "data": {
      "image/png": "[encoded data removed]",
      "text/plain": [
       "<Figure size 1080x360 with 1 Axes>"
      ]
     },
     "metadata": {
      "needs_background": "light"
     },
     "output_type": "display_data"
    }
   ],
   "source": [
    "n=6\n",
    "#x = faulty = 0.3\n",
    "#y = not faulty = 0.7\n",
    "x = 0.3\n",
    "y = 0.7\n",
    "\n",
    "df=pd.DataFrame({'a':[int(i) for i in range(7)],\n",
    "                 'B_a':[comb(6,i)*(x**i)*(y**(6-i)) for i in range(7)]})\n",
    "\n",
    "print(df.iloc[2][0],\"is the probability of getting 2 faulty LED's\")\n",
    "\n",
    "plt.figure(figsize=(15,5))\n",
    "sns.barplot(x='a',y='B_a',data=df)\n",
    "\n",
    "plt.xlabel('Number of Faulty Led')\n",
    "plt.ylabel('Probability of Faults')\n",
    "plt.show()"
   ]
  },
  {
   "cell_type": "code",
   "execution_count": 16,
   "id": "09f4109e",
   "metadata": {},
   "outputs": [
    {
     "name": "stdout",
     "output_type": "stream",
     "text": [
      "Mean is  1.7999999999999998\n",
      "Standard Deviation is 1.1224972160321822\n"
     ]
    }
   ],
   "source": [
    "print(\"Mean is \",n*x)\n",
    "print(\"Standard Deviation is\",np.sqrt(n*x*y))"
   ]
  },
  {
   "cell_type": "markdown",
   "id": "1b0dc2ec",
   "metadata": {},
   "source": [
    "# Problem Statement 6"
   ]
  },
  {
   "cell_type": "markdown",
   "id": "11b70ed1",
   "metadata": {},
   "source": [
    "Gaurav and Barakha are both preparing for entrance exams. Gaurav attempts to solve 8 questions per day with a correction rate of 75%, while Barakha averages around 12 questions per day with a correction rate of 45%. What is the probability that each of them will solve 5 questions correctly? What happens in cases of 4 and 6 correct solutions? What do you infer from it? What are the two main governing factors affecting their ability to solve questions correctly? Give a pictorial representation of the same to validate your answer."
   ]
  },
  {
   "cell_type": "code",
   "execution_count": 17,
   "id": "f3bf123f",
   "metadata": {},
   "outputs": [
    {
     "name": "stdout",
     "output_type": "stream",
     "text": [
      "Probability that each of them will solve 5 questions correctly is 0.046199890572992175\n",
      "Probability that Gaurav solves 4 and Barakha solves 6 questions correctly is 0.018374956477894614\n"
     ]
    }
   ],
   "source": [
    "from scipy.special import comb\n",
    "# For Gaurav\n",
    "#x_G = Solve = 0.75\n",
    "#y_G = not Solve = 0.25\n",
    "\n",
    "x_G = 0.75\n",
    "y_G = 0.25\n",
    "# ------------------------\n",
    "# For Barakha\n",
    "#x_B = Solve = 0.75\n",
    "#y_B = not Solve = 0.25\n",
    "\n",
    "x_B = 0.45\n",
    "y_B = 0.55\n",
    "\n",
    "# For first print\n",
    "a1_G=comb(8,5)*(x_G**5)*(y_G)**3\n",
    "a1_B=comb(12,5)*(x_B**5)*(y_B)**7\n",
    "\n",
    "# For second print\n",
    "a2_G=comb(8,4)*(x_G**4)*(y_G)**4\n",
    "a2_B=comb(12,6)*(x_B**6)*(y_B)**6\n",
    "\n",
    "print(\"Probability that each of them will solve 5 questions correctly is\",a1_G*a1_B)\n",
    "print(\"Probability that Gaurav solves 4 and Barakha solves 6 questions correctly is\",a2_G*a2_B)"
   ]
  },
  {
   "cell_type": "code",
   "execution_count": 18,
   "id": "94d72b02",
   "metadata": {},
   "outputs": [
    {
     "name": "stdout",
     "output_type": "stream",
     "text": [
      "For Gaurav\n"
     ]
    },
    {
     "data": {
      "image/png": "[encoded data removed]",
      "text/plain": [
       "<Figure size 1080x360 with 1 Axes>"
      ]
     },
     "metadata": {
      "needs_background": "light"
     },
     "output_type": "display_data"
    }
   ],
   "source": [
    "print(\"For Gaurav\")\n",
    "#x = Solve = 0.75\n",
    "#y = not Solve = 0.25\n",
    "x = 0.75\n",
    "y = 0.25\n",
    "\n",
    "df=pd.DataFrame({'a':[int(i) for i in range(1,9)],\n",
    "                 'B_a':[comb(8,i)*(x**i)*(y**(8-i)) for i in range(1,9)]})\n",
    "\n",
    "plt.figure(figsize=(15,5))\n",
    "sns.barplot(x='a',y='B_a',data=df)\n",
    "\n",
    "plt.xlabel('Number of Questions')\n",
    "plt.ylabel('Probability of Questions getting solved')\n",
    "plt.show()"
   ]
  },
  {
   "cell_type": "code",
   "execution_count": 19,
   "id": "16536c45",
   "metadata": {},
   "outputs": [
    {
     "name": "stdout",
     "output_type": "stream",
     "text": [
      "For Barakha\n"
     ]
    },
    {
     "data": {
      "image/png": "[encoded data removed]",
      "text/plain": [
       "<Figure size 1080x360 with 1 Axes>"
      ]
     },
     "metadata": {
      "needs_background": "light"
     },
     "output_type": "display_data"
    }
   ],
   "source": [
    "print(\"For Barakha\")\n",
    "#x = Solve = 0.75\n",
    "#y = not Solve = 0.25\n",
    "x = 0.45\n",
    "y = 0.55\n",
    "\n",
    "df=pd.DataFrame({'a':[int(i) for i in range(1,13)],\n",
    "                 'B_a':[comb(12,i)*(x**i)*(y**(12-i)) for i in range(1,13)]})\n",
    "\n",
    "plt.figure(figsize=(15,5))\n",
    "sns.barplot(x='a',y='B_a',data=df)\n",
    "\n",
    "plt.xlabel('Number of Questions')\n",
    "plt.ylabel('Probability of Questions getting solved')\n",
    "plt.show()"
   ]
  },
  {
   "cell_type": "markdown",
   "id": "b9c7b0d9",
   "metadata": {},
   "source": [
    "# Problem Statement 7"
   ]
  },
  {
   "cell_type": "markdown",
   "id": "4d573820",
   "metadata": {},
   "source": [
    "Customers arrive at a rate of 72 per hour to my shop. What is the probability of 𝑘 customers arriving in 4 minutes? a) 5 customers, b) not more than 3 customers, c) more than 3 customers. Give a pictorial representation of the same to validate your answer."
   ]
  },
  {
   "cell_type": "code",
   "execution_count": 20,
   "id": "439b38d0",
   "metadata": {},
   "outputs": [
    {
     "name": "stdout",
     "output_type": "stream",
     "text": [
      "The probability of arriving 5 customers in 4 minutes is 0.17474768364388296\n",
      "The probability of arriving not more than 3 customers in 4 minutes is : 0.15169069760753714\n",
      "The Probability of more than 3 customers arriving in 4 minutes is : 0.7057700835034357\n"
     ]
    }
   ],
   "source": [
    "from scipy.stats import poisson\n",
    "# Calculating average number of customers in 4 minutes\n",
    "lambda_=(72/60)*4\n",
    "print('The probability of arriving 5 customers in 4 minutes is',poisson.pmf(k=5,mu=lambda_))\n",
    "print(f\"The probability of arriving not more than 3 customers in 4 minutes is : {poisson.pmf(k=3, mu=lambda_)}\")\n",
    "print(f'The Probability of more than 3 customers arriving in 4 minutes is : {1-poisson.cdf(k=3,mu=lambda_)}')"
   ]
  },
  {
   "cell_type": "code",
   "execution_count": 21,
   "id": "e4919b98",
   "metadata": {},
   "outputs": [],
   "source": [
    "all_prob=[poisson.pmf(k=x,mu=lambda_) for x in range(0,11)]\n"
   ]
  },
  {
   "cell_type": "code",
   "execution_count": 22,
   "id": "a475ffd0",
   "metadata": {},
   "outputs": [
    {
     "data": {
      "text/plain": [
       "[0.00822974704902003,\n",
       " 0.03950278583529614,\n",
       " 0.09480668600471075,\n",
       " 0.15169069760753714,\n",
       " 0.1820288371290446,\n",
       " 0.17474768364388296,\n",
       " 0.13979814691510614,\n",
       " 0.0958615864560728,\n",
       " 0.057516951873643696,\n",
       " 0.030675707665943353,\n",
       " 0.014724339679652799]"
      ]
     },
     "execution_count": 22,
     "metadata": {},
     "output_type": "execute_result"
    }
   ],
   "source": [
    "all_prob"
   ]
  },
  {
   "cell_type": "code",
   "execution_count": 23,
   "id": "c5fba047",
   "metadata": {},
   "outputs": [
    {
     "data": {
      "text/html": [
       "<div>\n",
       "<style scoped>\n",
       "    .dataframe tbody tr th:only-of-type {\n",
       "        vertical-align: middle;\n",
       "    }\n",
       "\n",
       "    .dataframe tbody tr th {\n",
       "        vertical-align: top;\n",
       "    }\n",
       "\n",
       "    .dataframe thead th {\n",
       "        text-align: right;\n",
       "    }\n",
       "</style>\n",
       "<table border=\"1\" class=\"dataframe\">\n",
       "  <thead>\n",
       "    <tr style=\"text-align: right;\">\n",
       "      <th></th>\n",
       "      <th>Probability</th>\n",
       "      <th>Customers</th>\n",
       "    </tr>\n",
       "  </thead>\n",
       "  <tbody>\n",
       "    <tr>\n",
       "      <th>0</th>\n",
       "      <td>0.008230</td>\n",
       "      <td>0</td>\n",
       "    </tr>\n",
       "    <tr>\n",
       "      <th>1</th>\n",
       "      <td>0.039503</td>\n",
       "      <td>1</td>\n",
       "    </tr>\n",
       "    <tr>\n",
       "      <th>2</th>\n",
       "      <td>0.094807</td>\n",
       "      <td>2</td>\n",
       "    </tr>\n",
       "    <tr>\n",
       "      <th>3</th>\n",
       "      <td>0.151691</td>\n",
       "      <td>3</td>\n",
       "    </tr>\n",
       "    <tr>\n",
       "      <th>4</th>\n",
       "      <td>0.182029</td>\n",
       "      <td>4</td>\n",
       "    </tr>\n",
       "    <tr>\n",
       "      <th>5</th>\n",
       "      <td>0.174748</td>\n",
       "      <td>5</td>\n",
       "    </tr>\n",
       "    <tr>\n",
       "      <th>6</th>\n",
       "      <td>0.139798</td>\n",
       "      <td>6</td>\n",
       "    </tr>\n",
       "    <tr>\n",
       "      <th>7</th>\n",
       "      <td>0.095862</td>\n",
       "      <td>7</td>\n",
       "    </tr>\n",
       "    <tr>\n",
       "      <th>8</th>\n",
       "      <td>0.057517</td>\n",
       "      <td>8</td>\n",
       "    </tr>\n",
       "    <tr>\n",
       "      <th>9</th>\n",
       "      <td>0.030676</td>\n",
       "      <td>9</td>\n",
       "    </tr>\n",
       "    <tr>\n",
       "      <th>10</th>\n",
       "      <td>0.014724</td>\n",
       "      <td>10</td>\n",
       "    </tr>\n",
       "  </tbody>\n",
       "</table>\n",
       "</div>"
      ],
      "text/plain": [
       "    Probability  Customers\n",
       "0      0.008230          0\n",
       "1      0.039503          1\n",
       "2      0.094807          2\n",
       "3      0.151691          3\n",
       "4      0.182029          4\n",
       "5      0.174748          5\n",
       "6      0.139798          6\n",
       "7      0.095862          7\n",
       "8      0.057517          8\n",
       "9      0.030676          9\n",
       "10     0.014724         10"
      ]
     },
     "execution_count": 23,
     "metadata": {},
     "output_type": "execute_result"
    }
   ],
   "source": [
    "df=pd.DataFrame({'Probability': all_prob,'Customers':range(0,11)})\n",
    "df"
   ]
  },
  {
   "cell_type": "code",
   "execution_count": 24,
   "id": "e26fccdb",
   "metadata": {},
   "outputs": [
    {
     "data": {
      "image/png": "[encoded data removed]",
      "text/plain": [
       "<Figure size 432x288 with 1 Axes>"
      ]
     },
     "metadata": {
      "needs_background": "light"
     },
     "output_type": "display_data"
    }
   ],
   "source": [
    "# So now lets see the poisson distribution of customers arriving in 4 minutes\n",
    "sns.barplot(data=df,y='Probability',x='Customers')\n",
    "plt.show()"
   ]
  },
  {
   "cell_type": "markdown",
   "id": "636ce766",
   "metadata": {},
   "source": [
    "# Problem Statement 7 "
   ]
  },
  {
   "cell_type": "markdown",
   "id": "84adc8e1",
   "metadata": {},
   "source": [
    "I work as a data analyst in Aeon Learning Pvt. Ltd. After analyzing data, I make reports, where I have the efficiency of entering 77 words per minute with 6 errors per hour. What is the probability that I will commit 2 errors in a 455-word financial report? What happens when the no. of words increases/decreases (in case of 1000 words, 255 words)?\n",
    "How is the 𝜆 affected?\n",
    "How does it influence the PMF?\n",
    "Give a pictorial representation of the same to validate your answer."
   ]
  },
  {
   "cell_type": "code",
   "execution_count": 25,
   "id": "955fae1f",
   "metadata": {},
   "outputs": [
    {
     "name": "stdout",
     "output_type": "stream",
     "text": [
      "The pobability of commiting 2 errors in 455 words financial report is :0.09669027375144444\n",
      "The pobability of commiting 2 errors in 1000 words financial report is :0.23012815007300153\n",
      "The pobability of commiting 2 errors in 255 words financial report is :0.039377135392854104\n"
     ]
    }
   ],
   "source": [
    "from scipy.stats import poisson\n",
    "#Rate of entering=77 per minute\n",
    "#error rate= 6/hour=0.1 per minute\n",
    "#No of errors per word=0.1/77\n",
    "unit_mu=0.1/77\n",
    "def mu(n):\n",
    "    return n * unit_mu\n",
    "print(f\"The pobability of commiting 2 errors in 455 words financial report is :{poisson.pmf(2,mu=mu(455))}\")\n",
    "print(f\"The pobability of commiting 2 errors in 1000 words financial report is :{poisson.pmf(2,mu=mu(1000))}\")\n",
    "print(f\"The pobability of commiting 2 errors in 255 words financial report is :{poisson.pmf(2,mu=mu(255))}\")"
   ]
  },
  {
   "cell_type": "code",
   "execution_count": 26,
   "id": "691c5e75",
   "metadata": {},
   "outputs": [
    {
     "data": {
      "text/plain": [
       "[0.0074060505708688,\n",
       " 0.026016255184836776,\n",
       " 0.051407374165657355,\n",
       " 0.08026034340304924,\n",
       " 0.11013342840506617,\n",
       " 0.13927711755756633,\n",
       " 0.16648360393765826,\n",
       " 0.19096487012853447,\n",
       " 0.21225437268215808]"
      ]
     },
     "execution_count": 26,
     "metadata": {},
     "output_type": "execute_result"
    }
   ],
   "source": [
    "unit_mu=0.1/77\n",
    "def fun_mu(n):\n",
    "    return n * unit_mu\n",
    "all_prob=[poisson.pmf(2,mu=fun_mu(mu)) for mu in range(100,1000,100)]\n",
    "all_prob"
   ]
  },
  {
   "cell_type": "code",
   "execution_count": 27,
   "id": "e24c7873",
   "metadata": {},
   "outputs": [
    {
     "data": {
      "text/html": [
       "<div>\n",
       "<style scoped>\n",
       "    .dataframe tbody tr th:only-of-type {\n",
       "        vertical-align: middle;\n",
       "    }\n",
       "\n",
       "    .dataframe tbody tr th {\n",
       "        vertical-align: top;\n",
       "    }\n",
       "\n",
       "    .dataframe thead th {\n",
       "        text-align: right;\n",
       "    }\n",
       "</style>\n",
       "<table border=\"1\" class=\"dataframe\">\n",
       "  <thead>\n",
       "    <tr style=\"text-align: right;\">\n",
       "      <th></th>\n",
       "      <th>Probability</th>\n",
       "      <th>Words</th>\n",
       "    </tr>\n",
       "  </thead>\n",
       "  <tbody>\n",
       "    <tr>\n",
       "      <th>0</th>\n",
       "      <td>0.007406</td>\n",
       "      <td>100</td>\n",
       "    </tr>\n",
       "    <tr>\n",
       "      <th>1</th>\n",
       "      <td>0.026016</td>\n",
       "      <td>200</td>\n",
       "    </tr>\n",
       "    <tr>\n",
       "      <th>2</th>\n",
       "      <td>0.051407</td>\n",
       "      <td>300</td>\n",
       "    </tr>\n",
       "    <tr>\n",
       "      <th>3</th>\n",
       "      <td>0.080260</td>\n",
       "      <td>400</td>\n",
       "    </tr>\n",
       "    <tr>\n",
       "      <th>4</th>\n",
       "      <td>0.110133</td>\n",
       "      <td>500</td>\n",
       "    </tr>\n",
       "    <tr>\n",
       "      <th>5</th>\n",
       "      <td>0.139277</td>\n",
       "      <td>600</td>\n",
       "    </tr>\n",
       "    <tr>\n",
       "      <th>6</th>\n",
       "      <td>0.166484</td>\n",
       "      <td>700</td>\n",
       "    </tr>\n",
       "    <tr>\n",
       "      <th>7</th>\n",
       "      <td>0.190965</td>\n",
       "      <td>800</td>\n",
       "    </tr>\n",
       "    <tr>\n",
       "      <th>8</th>\n",
       "      <td>0.212254</td>\n",
       "      <td>900</td>\n",
       "    </tr>\n",
       "  </tbody>\n",
       "</table>\n",
       "</div>"
      ],
      "text/plain": [
       "   Probability  Words\n",
       "0     0.007406    100\n",
       "1     0.026016    200\n",
       "2     0.051407    300\n",
       "3     0.080260    400\n",
       "4     0.110133    500\n",
       "5     0.139277    600\n",
       "6     0.166484    700\n",
       "7     0.190965    800\n",
       "8     0.212254    900"
      ]
     },
     "execution_count": 27,
     "metadata": {},
     "output_type": "execute_result"
    }
   ],
   "source": [
    "df=pd.DataFrame({'Probability': all_prob,'Words':range(100,1000,100)})\n",
    "df"
   ]
  },
  {
   "cell_type": "code",
   "execution_count": 28,
   "id": "372a34b8",
   "metadata": {},
   "outputs": [
    {
     "data": {
      "image/png": "[encoded data removed]",
      "text/plain": [
       "<Figure size 432x288 with 1 Axes>"
      ]
     },
     "metadata": {
      "needs_background": "light"
     },
     "output_type": "display_data"
    }
   ],
   "source": [
    "sns.barplot(data=df,y='Probability',x='Words')\n",
    "plt.show()"
   ]
  },
  {
   "cell_type": "code",
   "execution_count": 29,
   "id": "d8e8f768",
   "metadata": {},
   "outputs": [
    {
     "data": {
      "text/plain": [
       "[0.12987012987012986,\n",
       " 0.2597402597402597,\n",
       " 0.38961038961038963,\n",
       " 0.5194805194805194,\n",
       " 0.6493506493506493,\n",
       " 0.7792207792207793,\n",
       " 0.9090909090909091,\n",
       " 1.0389610389610389,\n",
       " 1.1688311688311688]"
      ]
     },
     "execution_count": 29,
     "metadata": {},
     "output_type": "execute_result"
    }
   ],
   "source": [
    "# Lets see how mu is affected with increasing number of words\n",
    "unit_mu=0.1/77\n",
    "chng_mu=[unit_mu*x for x in range(100,1000,100)]\n",
    "chng_mu"
   ]
  },
  {
   "cell_type": "code",
   "execution_count": 30,
   "id": "85cb30f2",
   "metadata": {},
   "outputs": [
    {
     "data": {
      "text/html": [
       "<div>\n",
       "<style scoped>\n",
       "    .dataframe tbody tr th:only-of-type {\n",
       "        vertical-align: middle;\n",
       "    }\n",
       "\n",
       "    .dataframe tbody tr th {\n",
       "        vertical-align: top;\n",
       "    }\n",
       "\n",
       "    .dataframe thead th {\n",
       "        text-align: right;\n",
       "    }\n",
       "</style>\n",
       "<table border=\"1\" class=\"dataframe\">\n",
       "  <thead>\n",
       "    <tr style=\"text-align: right;\">\n",
       "      <th></th>\n",
       "      <th>mu</th>\n",
       "      <th>Words</th>\n",
       "    </tr>\n",
       "  </thead>\n",
       "  <tbody>\n",
       "    <tr>\n",
       "      <th>0</th>\n",
       "      <td>0.129870</td>\n",
       "      <td>100</td>\n",
       "    </tr>\n",
       "    <tr>\n",
       "      <th>1</th>\n",
       "      <td>0.259740</td>\n",
       "      <td>200</td>\n",
       "    </tr>\n",
       "    <tr>\n",
       "      <th>2</th>\n",
       "      <td>0.389610</td>\n",
       "      <td>300</td>\n",
       "    </tr>\n",
       "    <tr>\n",
       "      <th>3</th>\n",
       "      <td>0.519481</td>\n",
       "      <td>400</td>\n",
       "    </tr>\n",
       "    <tr>\n",
       "      <th>4</th>\n",
       "      <td>0.649351</td>\n",
       "      <td>500</td>\n",
       "    </tr>\n",
       "    <tr>\n",
       "      <th>5</th>\n",
       "      <td>0.779221</td>\n",
       "      <td>600</td>\n",
       "    </tr>\n",
       "    <tr>\n",
       "      <th>6</th>\n",
       "      <td>0.909091</td>\n",
       "      <td>700</td>\n",
       "    </tr>\n",
       "    <tr>\n",
       "      <th>7</th>\n",
       "      <td>1.038961</td>\n",
       "      <td>800</td>\n",
       "    </tr>\n",
       "    <tr>\n",
       "      <th>8</th>\n",
       "      <td>1.168831</td>\n",
       "      <td>900</td>\n",
       "    </tr>\n",
       "  </tbody>\n",
       "</table>\n",
       "</div>"
      ],
      "text/plain": [
       "         mu  Words\n",
       "0  0.129870    100\n",
       "1  0.259740    200\n",
       "2  0.389610    300\n",
       "3  0.519481    400\n",
       "4  0.649351    500\n",
       "5  0.779221    600\n",
       "6  0.909091    700\n",
       "7  1.038961    800\n",
       "8  1.168831    900"
      ]
     },
     "execution_count": 30,
     "metadata": {},
     "output_type": "execute_result"
    }
   ],
   "source": [
    "df=pd.DataFrame({'mu':chng_mu,'Words':range(100,1000,100)})\n",
    "df"
   ]
  },
  {
   "cell_type": "code",
   "execution_count": 31,
   "id": "5c8383c7",
   "metadata": {},
   "outputs": [
    {
     "data": {
      "image/png": "[encoded data removed]",
      "text/plain": [
       "<Figure size 432x288 with 1 Axes>"
      ]
     },
     "metadata": {
      "needs_background": "light"
     },
     "output_type": "display_data"
    }
   ],
   "source": [
    "sns.barplot(data=df,y='mu',x='Words')\n",
    "plt.show()"
   ]
  },
  {
   "cell_type": "markdown",
   "id": "746f8a04",
   "metadata": {},
   "source": [
    "# Problem Statement 10 "
   ]
  },
  {
   "cell_type": "markdown",
   "id": "1ac16050",
   "metadata": {},
   "source": [
    "# Problem 9 is same as problem 4 "
   ]
  },
  {
   "cell_type": "markdown",
   "id": "3ec53a29",
   "metadata": {},
   "source": [
    "Please compute the following:\n",
    "1. P(Z > 1.26), . P(Z < −0.86), P(Z > −1.37), P(−1.25 < Z < 0.37), . P(Z ≤ −4.6)\n",
    "2. Find the value 𝑧 such that 𝑃(𝑍 > 𝑧) = 0.05\n",
    "3. Find the value of 𝑧 such that 𝑃(−𝑧 < 𝑍 < 𝑧) = 0.99"
   ]
  },
  {
   "cell_type": "code",
   "execution_count": 32,
   "id": "c85319c5",
   "metadata": {},
   "outputs": [
    {
     "name": "stdout",
     "output_type": "stream",
     "text": [
      "The value of P(Z>1.26): 0.10383468112130045\n",
      "The value of P(Z<-0.86): 0.1948945212518084\n",
      "The value of P(Z>-1.37): 0.914656549178033\n",
      "The value of P(-1.25<Z<0.37): 0.5386589811336914\n",
      "The value of P(Z<=-4.6): 2.1124547025028537e-06\n",
      "The value of z when P(Z>z)=0.05 is 1.6448536269514729\n",
      "The value of z when 𝑃(−𝑧 < 𝑍 < 𝑧) = 0.99 is 2.3263478740408408\n"
     ]
    }
   ],
   "source": [
    "# Try to think about the graph of normal distribution\n",
    "# i have written norm .cdf(1.26) so here cdf is written it means that ,\n",
    "# it will give area from left and to calculate area from right i have to  do minus 1\n",
    "\n",
    "from scipy.stats import norm\n",
    "print('The value of P(Z>1.26):',1-norm.cdf(1.26))\n",
    "print('The value of P(Z<-0.86):',norm.cdf(-0.86))\n",
    "print('The value of P(Z>-1.37):',1-norm.cdf(-1.37))\n",
    "print('The value of P(-1.25<Z<0.37):',norm.cdf(0.37)-norm.cdf(-1.25))\n",
    "print('The value of P(Z<=-4.6):',norm.cdf(-4.6))\n",
    "\n",
    "print('The value of z when P(Z>z)=0.05 is',(abs(norm.ppf(0.05))))\n",
    "print('The value of z when 𝑃(−𝑧 < 𝑍 < 𝑧) = 0.99 is',(abs(norm.ppf(0.99))))"
   ]
  },
  {
   "cell_type": "markdown",
   "id": "5b4452e2",
   "metadata": {},
   "source": [
    "#  Problem Statement 11 "
   ]
  },
  {
   "cell_type": "markdown",
   "id": "49c4cffc",
   "metadata": {},
   "source": [
    "The current flow in a copper wire follow a normal distribution with a mean of 10 𝑚A and a variance of 4 (𝑚𝐴)2.\n",
    "What is the probability that a current measurement will exceed 13 𝑚𝐴? What is the probability that a current measurement is between 9 and 11mA? Determine the current measurement which has a probability of 0.98."
   ]
  },
  {
   "cell_type": "code",
   "execution_count": 33,
   "id": "58ac4cad",
   "metadata": {},
   "outputs": [
    {
     "name": "stdout",
     "output_type": "stream",
     "text": [
      "Probability that a current measurement will exceed 13 𝑚𝐴: 0.06680720126885809\n",
      "Probability that current is between 9 mA and 11 mA is: 0.38292492254802624\n"
     ]
    }
   ],
   "source": [
    "mean=10\n",
    "var=4\n",
    "std=np.sqrt(var)\n",
    "def calc(val):\n",
    "    z=(val-mean)/std\n",
    "    return norm.cdf(z)\n",
    "    \n",
    "print('Probability that a current measurement will exceed 13 𝑚𝐴:',1-calc(13))\n",
    "print(\"Probability that current is between 9 mA and 11 mA is:\",calc(11)-calc(9) )"
   ]
  },
  {
   "cell_type": "markdown",
   "id": "b8a444c2",
   "metadata": {},
   "source": [
    "# Problem Statement 12"
   ]
  },
  {
   "cell_type": "markdown",
   "id": "5dbf9d5b",
   "metadata": {},
   "source": [
    "The shaft in a piston has its diameter normally distributed with a mean of 0.2508 inch and a standard deviation of 0.0005 inch. The specifications of the shaft are 0.2500 ∓0.0015 inch. What proportion of shafts are in sync with the specifications? If the process is centered so that the mean is equal to the target value of 0.2500, what proportion of shafts conform to the new specifications? What is your conclusion from this experiment?"
   ]
  },
  {
   "cell_type": "code",
   "execution_count": 34,
   "id": "3388a4a1",
   "metadata": {},
   "outputs": [
    {
     "name": "stdout",
     "output_type": "stream",
     "text": [
      "Proportion of shafts with dia in range of 0.2485<d<0.2515 when mean diameter:(0.2508, None)\n",
      "Proportion of shafts with dia in range of 0.2485<d<0.2515 when mean diameter:(0.25, None)\n"
     ]
    }
   ],
   "source": [
    "\n",
    "mean_dia=0.2508\n",
    "std_dia=0.0005\n",
    "#specified dia in the range of 0.2485<d<0.2515\n",
    "#case-1 if mean_dia=0.2508\n",
    "def I(mean,std,a,b) :\n",
    "  #gives P(Z<=x)\n",
    "  a=(a-mean)/std\n",
    "  b=(b-mean)/std\n",
    "print(f\"Proportion of shafts with dia in range of 0.2485<d<0.2515 when mean diameter:{0.2508,I(0.2508,0.0005,0.2485,0.2515)}\")\n",
    "print(f\"Proportion of shafts with dia in range of 0.2485<d<0.2515 when mean diameter:{0.2500,I(0.2500,0.0005,0.2485,0.2515)}\")"
   ]
  },
  {
   "cell_type": "code",
   "execution_count": null,
   "id": "9e60c49a",
   "metadata": {},
   "outputs": [],
   "source": []
  }
 ],
 "metadata": {
  "kernelspec": {
   "display_name": "Python 3",
   "language": "python",
   "name": "python3"
  },
  "language_info": {
   "codemirror_mode": {
    "name": "ipython",
    "version": 3
   },
   "file_extension": ".py",
   "mimetype": "text/x-python",
   "name": "python",
   "nbconvert_exporter": "python",
   "pygments_lexer": "ipython3",
   "version": "3.8.8"
  }
 },
 "nbformat": 4,
 "nbformat_minor": 5
}
